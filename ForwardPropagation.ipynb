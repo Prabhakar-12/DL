{
 "cells": [
  {
   "cell_type": "code",
   "id": "initial_id",
   "metadata": {
    "collapsed": true,
    "ExecuteTime": {
     "end_time": "2025-09-28T03:30:51.657367Z",
     "start_time": "2025-09-28T03:30:51.634502Z"
    }
   },
   "source": [
    "import numpy as np\n",
    "class Neuron:\n",
    "    def __init__(self,weights,bais):\n",
    "        self.weights=weights\n",
    "        self.bais=bais\n",
    "    def Forward(self,inputs):\n",
    "        self.inputs=inputs\n",
    "        weighted_sum=np.dot(self.weights,self.inputs)\n",
    "        Output=weighted_sum+self.bais\n",
    "        if Output>=0:\n",
    "            return 1\n",
    "        else:\n",
    "            return 0\n",
    "##Building the Neurol Networks\n",
    "#First Hidden Layer\n",
    "Hidden_Layer1_Neuron1=Neuron(weights=[2,-3],bais=2)\n",
    "Hidden_Layer1_Neuron2=Neuron(weights=[-2,3],bais=3)\n",
    "inputs=[2,3]\n",
    "HL_Neuron1_Output=Hidden_Layer1_Neuron1.Forward(inputs)\n",
    "HL_Neuron2_Output=Hidden_Layer1_Neuron2.Forward(inputs)\n",
    "Hidden_Layer1_Output=np.array([HL_Neuron1_Output,HL_Neuron2_Output])\n",
    "print(\"The Output of the First Hidden Layer is \",Hidden_Layer1_Output)\n",
    "#Second Hidden Layer\n",
    "Hidden_Layer2_Neuron1=Neuron(weights=[-2,3],bais=2)\n",
    "Hidden_Layer2_Neuron2=Neuron(weights=[-2,-1],bais=2)\n",
    "HL2_Neuron1_Output=Hidden_Layer1_Neuron1.Forward(Hidden_Layer1_Output)\n",
    "HL2_Neuron2_Output=Hidden_Layer2_Neuron2.Forward(Hidden_Layer1_Output)\n",
    "Hidden_Layer2_Output=np.array([HL2_Neuron1_Output,HL2_Neuron2_Output])\n",
    "print(\"The Output of the Hidden Layer 2 is \",Hidden_Layer2_Output)\n",
    "#Final Output\n",
    "Final_Neuron=Neuron(weights=[-2,-3],bais=2)\n",
    "Output=Final_Neuron.Forward(Hidden_Layer2_Output)\n",
    "print(\"The Final Output of the Network is \",Output)\n"
   ],
   "outputs": [
    {
     "name": "stdout",
     "output_type": "stream",
     "text": [
      "The Output of the First Hidden Layer is  [0 1]\n",
      "The Output of the Hidden Layer 2 is  [0 1]\n",
      "The Final Output of the Network is  0\n"
     ]
    }
   ],
   "execution_count": 11
  },
  {
   "metadata": {
    "ExecuteTime": {
     "end_time": "2025-09-28T03:31:00.630700Z",
     "start_time": "2025-09-28T03:31:00.611811Z"
    }
   },
   "cell_type": "code",
   "source": [
    "import numpy as np\n",
    "class Neuron:\n",
    "    def __init__(self,weights,bais):\n",
    "        self.weights=weights\n",
    "        self.bais=bais\n",
    "    def Forward(self,inputs):\n",
    "        self.inputs=inputs\n",
    "        weighted_sum=np.dot(self.weights,self.inputs)\n",
    "        Output=weighted_sum+self.bais\n",
    "        if Output>=0:\n",
    "            return 1\n",
    "        else:\n",
    "            return 0\n",
    "##Building the Hidden Layers\n",
    "#Hidden Layer One\n",
    "Hidden_Layer1_Neuron1=Neuron(weights=[2,3],bais=3)\n",
    "Hidden_Layer1_Neuron2=Neuron(weights=[-2,3],bais=3)\n",
    "inputs=[2,3]\n",
    "HL1_Neuron1_Output=Hidden_Layer1_Neuron1.Forward(inputs)\n",
    "HL1_Neuron2_Output=Hidden_Layer1_Neuron2.Forward(inputs)\n",
    "Hidden_Layer1_Output=np.array([HL1_Neuron1_Output,HL1_Neuron2_Output])\n",
    "print(\"The Hidden Layer One Output is \",Hidden_Layer1_Output)\n",
    "#Hidden Layer Two\n",
    "Hidden_Layer2_Neuron1=Neuron(weights=[2,-3],bais=2)\n",
    "Hidden_Layer2_Neuron2=Neuron(weights=[-3,2],bais=2)\n",
    "HL2_Neuron1_Output=Hidden_Layer2_Neuron1.Forward(Hidden_Layer1_Output)\n",
    "HL2_Neuron2_Output=Hidden_Layer2_Neuron2.Forward(Hidden_Layer1_Output)\n",
    "Hidden_Layer2_Output=np.array([HL2_Neuron1_Output,HL2_Neuron2_Output])\n",
    "print(\"The Hidden Layer 2 output is \",Hidden_Layer2_Output)"
   ],
   "id": "7f03b997306d2cb8",
   "outputs": [
    {
     "name": "stdout",
     "output_type": "stream",
     "text": [
      "The Hidden Layer One Output is  [1 1]\n",
      "The Hidden Layer 2 output is  [1 1]\n"
     ]
    }
   ],
   "execution_count": 13
  },
  {
   "metadata": {},
   "cell_type": "code",
   "outputs": [],
   "execution_count": null,
   "source": [
    "import numpy as np\n",
    "\n",
    "# Sigmoid activation and its derivative\n",
    "def sigmoid(x):\n",
    "    return 1 / (1 + np.exp(-x))\n",
    "\n",
    "def sigmoid_derivative(x):\n",
    "    return x * (1 - x)  # derivative when input is already sigmoid(x)\n",
    "\n",
    "# Training data for XOR\n",
    "X = np.array([[0,0],\n",
    "              [0,1],\n",
    "              [1,0],\n",
    "              [1,1]])\n",
    "\n",
    "y = np.array([[0],\n",
    "              [1],\n",
    "              [1],\n",
    "              [0]])\n",
    "\n",
    "# Seed for reproducibility\n",
    "np.random.seed(42)\n",
    "\n",
    "# Initialize weights & biases (random small numbers)\n",
    "input_neurons = 2\n",
    "hidden_neurons = 2\n",
    "output_neurons = 1\n",
    "\n",
    "W1 = np.random.uniform(-1, 1, (input_neurons, hidden_neurons))\n",
    "b1 = np.zeros((1, hidden_neurons))\n",
    "W2 = np.random.uniform(-1, 1, (hidden_neurons, output_neurons))\n",
    "b2 = np.zeros((1, output_neurons))\n",
    "\n",
    "# Training parameters\n",
    "epochs = 10000\n",
    "learning_rate = 0.1\n",
    "\n",
    "# Training loop\n",
    "for epoch in range(epochs):\n",
    "    # --- Forward pass ---\n",
    "    hidden_input = np.dot(X, W1) + b1\n",
    "    hidden_output = sigmoid(hidden_input)\n",
    "\n",
    "    final_input = np.dot(hidden_output, W2) + b2\n",
    "    final_output = sigmoid(final_input)\n",
    "\n",
    "    # --- Calculate error ---\n",
    "    error = y - final_output\n",
    "\n",
    "    # --- Backpropagation ---\n",
    "    d_output = error * sigmoid_derivative(final_output)  # output layer delta\n",
    "    d_hidden = d_output.dot(W2.T) * sigmoid_derivative(hidden_output)  # hidden layer delta\n",
    "\n",
    "    # --- Update weights & biases ---\n",
    "    W2 += hidden_output.T.dot(d_output) * learning_rate\n",
    "    b2 += np.sum(d_output, axis=0, keepdims=True) * learning_rate\n",
    "    W1 += X.T.dot(d_hidden) * learning_rate\n",
    "    b1 += np.sum(d_hidden, axis=0, keepdims=True) * learning_rate\n",
    "\n",
    "    # Print loss every 1000 epochs\n",
    "    if epoch % 1000 == 0:\n",
    "        loss = np.mean(np.square(error))\n",
    "        print(f\"Epoch {epoch}, Loss: {loss:.4f}\")\n",
    "\n",
    "# Final predictions\n",
    "print(\"\\nPredictions after training:\")\n",
    "print(final_output)\n"
   ],
   "id": "e6f45df27ebf4257"
  }
 ],
 "metadata": {
  "kernelspec": {
   "display_name": "Python 3",
   "language": "python",
   "name": "python3"
  },
  "language_info": {
   "codemirror_mode": {
    "name": "ipython",
    "version": 2
   },
   "file_extension": ".py",
   "mimetype": "text/x-python",
   "name": "python",
   "nbconvert_exporter": "python",
   "pygments_lexer": "ipython2",
   "version": "2.7.6"
  }
 },
 "nbformat": 4,
 "nbformat_minor": 5
}
