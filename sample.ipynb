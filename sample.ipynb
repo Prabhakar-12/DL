{
 "cells": [
  {
   "metadata": {},
   "cell_type": "code",
   "outputs": [],
   "execution_count": null,
   "source": [
    "import numpy as np\n",
    "print(np.__version__)\n",
    "import pandas as pd\n",
    "print(pd.__version__)\n",
    "import matplotlib\n",
    "print(matplotlib.__version__)\n",
    "import torch\n",
    "print(torch.__version__)"
   ],
   "id": "42e72d1d47c0b69f"
  },
  {
   "metadata": {
    "ExecuteTime": {
     "end_time": "2025-09-26T15:15:07.735617Z",
     "start_time": "2025-09-26T15:15:07.722549Z"
    }
   },
   "cell_type": "code",
   "source": [
    "import torch\n",
    "print(torch.__version__)\n",
    "import torch\n",
    "print(torch.__version__)\n",
    "import torch\n",
    "print(torch.__version__)"
   ],
   "id": "f5a7f3c323d84fb9",
   "outputs": [
    {
     "name": "stdout",
     "output_type": "stream",
     "text": [
      "2.8.0+cpu\n",
      "2.8.0+cpu\n",
      "2.8.0+cpu\n"
     ]
    }
   ],
   "execution_count": 9
  }
 ],
 "metadata": {
  "kernelspec": {
   "display_name": "Python 3",
   "language": "python",
   "name": "python3"
  },
  "language_info": {
   "codemirror_mode": {
    "name": "ipython",
    "version": 2
   },
   "file_extension": ".py",
   "mimetype": "text/x-python",
   "name": "python",
   "nbconvert_exporter": "python",
   "pygments_lexer": "ipython2",
   "version": "2.7.6"
  }
 },
 "nbformat": 4,
 "nbformat_minor": 5
}
