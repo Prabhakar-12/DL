{
 "cells": [
  {
   "cell_type": "code",
   "id": "initial_id",
   "metadata": {
    "collapsed": true,
    "ExecuteTime": {
     "end_time": "2025-09-28T03:09:46.252461Z",
     "start_time": "2025-09-28T03:09:45.755259Z"
    }
   },
   "source": [
    "import numpy as np\n",
    "class Neuron:\n",
    "    def __init__(self,weights,bais):\n",
    "        self.weights=weights\n",
    "        self.bais=bais\n",
    "    def Forward(self,inputs):\n",
    "        self.inputs=inputs\n",
    "        weighted_sum=np.dot(self.weights,self.inputs)\n",
    "        Output=weighted_sum+self.bais\n",
    "        if Output>=0:\n",
    "            return 1\n",
    "        else:\n",
    "            return 0\n",
    "##Building the Neurol Networks\n",
    "#First Hidden Layer\n",
    "Hidden_Layer1_Neuron1=Neuron(weights=[2,-3],bais=2)\n",
    "Hidden_Layer1_Neuron2=Neuron(weights=[-2,3],bais=3)\n",
    "inputs=[2,3]\n",
    "HL_Neuron1_Output=Hidden_Layer1_Neuron1.Forward(inputs)\n",
    "HL_Neuron2_Output=Hidden_Layer1_Neuron2.Forward(inputs)\n",
    "Hidden_Layer1_Output=np.array([HL_Neuron1_Output,HL_Neuron2_Output])\n",
    "print(\"The Output of the First Hidden Layer is \",Hidden_Layer1_Output)\n",
    "#Second Hidden Layer\n",
    "Hidden_Layer2_Neuron1=Neuron(weights=[-2,3],bais=2)\n",
    "Hidden_Layer2_Neuron2=Neuron(weights=[-2,-1],bais=2)\n",
    "HL2_Neuron1_Output=Hidden_Layer1_Neuron1.Forward(Hidden_Layer1_Output)\n",
    "HL2_Neuron2_Output=Hidden_Layer2_Neuron2.Forward(Hidden_Layer1_Output)\n",
    "Hidden_Layer2_Output=np.array([HL2_Neuron1_Output,HL2_Neuron2_Output])\n",
    "print(\"The Output of the Hidden Layer 2 is \",Hidden_Layer2_Output)\n",
    "#Final Output\n",
    "Final_Neuron=Neuron(weights=[-2,-3],bais=2)\n",
    "Output=Final_Neuron.Forward(Hidden_Layer2_Output)\n",
    "print(\"The Final Output of the Network is \",Output)\n",
    "\n",
    "\n"
   ],
   "outputs": [
    {
     "name": "stdout",
     "output_type": "stream",
     "text": [
      "The Output of the First Hidden Layer is  [0 1]\n",
      "The Output of the Hidden Layer 2 is  [0 1]\n",
      "The Final Output of the Network is  0\n"
     ]
    }
   ],
   "execution_count": 1
  }
 ],
 "metadata": {
  "kernelspec": {
   "display_name": "Python 3",
   "language": "python",
   "name": "python3"
  },
  "language_info": {
   "codemirror_mode": {
    "name": "ipython",
    "version": 2
   },
   "file_extension": ".py",
   "mimetype": "text/x-python",
   "name": "python",
   "nbconvert_exporter": "python",
   "pygments_lexer": "ipython2",
   "version": "2.7.6"
  }
 },
 "nbformat": 4,
 "nbformat_minor": 5
}
