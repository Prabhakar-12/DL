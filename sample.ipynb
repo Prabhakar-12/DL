{
 "cells": [
  {
   "metadata": {
    "ExecuteTime": {
     "end_time": "2025-09-26T15:18:21.852033Z",
     "start_time": "2025-09-26T15:18:21.841032Z"
    }
   },
   "cell_type": "code",
   "source": [
    "import numpy as np\n",
    "print(np.__version__)\n",
    "import pandas as pd\n",
    "print(pd.__version__)\n",
    "import matplotlib\n",
    "print(matplotlib.__version__)\n",
    "import torch\n",
    "print(torch.__version__)"
   ],
   "id": "a83d6fdd2e3718ee",
   "outputs": [
    {
     "name": "stdout",
     "output_type": "stream",
     "text": [
      "2.3.3\n",
      "2.3.2\n",
      "3.10.6\n",
      "2.8.0+cpu\n"
     ]
    }
   ],
   "execution_count": 11
  },
  {
   "metadata": {
    "ExecuteTime": {
     "end_time": "2025-09-26T15:18:28.353348Z",
     "start_time": "2025-09-26T15:18:28.343344Z"
    }
   },
   "cell_type": "code",
   "source": [
    "import torch\n",
    "print(torch.__version__)"
   ],
   "id": "ae40b2df1cca0b9c",
   "outputs": [
    {
     "name": "stdout",
     "output_type": "stream",
     "text": [
      "2.8.0+cpu\n"
     ]
    }
   ],
   "execution_count": 12
  },
  {
   "metadata": {
    "ExecuteTime": {
     "end_time": "2025-09-26T15:20:07.974407Z",
     "start_time": "2025-09-26T15:20:07.961371Z"
    }
   },
   "cell_type": "code",
   "source": [
    "import numpy as np\n",
    "arr=np.array([1,-2,3,-4,5])\n",
    "index=np.where(arr>=3,\"T\",\"F\")\n",
    "print(index)"
   ],
   "id": "c81f27fb3005bf94",
   "outputs": [
    {
     "name": "stdout",
     "output_type": "stream",
     "text": [
      "['F' 'F' 'T' 'F' 'T']\n"
     ]
    }
   ],
   "execution_count": 14
  },
  {
   "metadata": {
    "ExecuteTime": {
     "end_time": "2025-09-26T15:27:50.822486Z",
     "start_time": "2025-09-26T15:27:50.804666Z"
    }
   },
   "cell_type": "code",
   "source": [
    "class Student:\n",
    "    def __init__(self,name,Rollno,Branch):\n",
    "        self.name=name\n",
    "        self.Rollno=Rollno\n",
    "        self.Branch=Branch\n",
    "    def Method(self):\n",
    "        print(\"The Student name is \",self.name)\n",
    "        print(\"RollNo is \",self.Rollno)\n",
    "        print(\"The Branch is \",self.Branch)\n",
    "\n",
    "Object=Student(\"Ravi\",453,\"CSE\")\n",
    "Object.Method()\n",
    "Object.Method()"
   ],
   "id": "89a966371084edc2",
   "outputs": [
    {
     "name": "stdout",
     "output_type": "stream",
     "text": [
      "The Student name is  Ravi\n",
      "RollNo is  453\n",
      "The Branch is  CSE\n",
      "The Student name is  Ravi\n",
      "RollNo is  453\n",
      "The Branch is  CSE\n"
     ]
    }
   ],
   "execution_count": 16
  },
  {
   "metadata": {
    "ExecuteTime": {
     "end_time": "2025-09-26T15:43:42.223799Z",
     "start_time": "2025-09-26T15:43:42.203451Z"
    }
   },
   "cell_type": "code",
   "source": [
    "\n",
    "import numpy as np\n",
    "def Sigmoid(x):\n",
    "    return 1/(1+np.exp(-x))\n",
    "def Derivative_Sigmoid(x):\n",
    "    z=Sigmoid(x)\n",
    "    return z*(1-z)\n",
    "x=np.array([1,-2,3])\n",
    "z=Sigmoid(x)\n",
    "Output=Derivative_Sigmoid(x)\n",
    "print(\"The input is\",x)\n",
    "print(\"The Sigmoid output is \",z)\n",
    "print(\"The Derivative of the Sigmoid Activation Function is \",Output)\n"
   ],
   "id": "4147b21296838fb0",
   "outputs": [
    {
     "name": "stdout",
     "output_type": "stream",
     "text": [
      "The input is [ 1 -2  3]\n",
      "The Sigmoid output is  [0.73105858 0.11920292 0.95257413]\n",
      "The Derivative of the Sigmoid Activation Function is  [0.19661193 0.10499359 0.04517666]\n"
     ]
    }
   ],
   "execution_count": 23
  }
 ],
 "metadata": {
  "kernelspec": {
   "display_name": "Python 3",
   "language": "python",
   "name": "python3"
  },
  "language_info": {
   "codemirror_mode": {
    "name": "ipython",
    "version": 2
   },
   "file_extension": ".py",
   "mimetype": "text/x-python",
   "name": "python",
   "nbconvert_exporter": "python",
   "pygments_lexer": "ipython2",
   "version": "2.7.6"
  }
 },
 "nbformat": 4,
 "nbformat_minor": 5
}
