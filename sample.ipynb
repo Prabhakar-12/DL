{
 "cells": [
  {
   "metadata": {
    "ExecuteTime": {
     "end_time": "2025-09-26T15:18:21.852033Z",
     "start_time": "2025-09-26T15:18:21.841032Z"
    }
   },
   "cell_type": "code",
   "source": [
    "import numpy as np\n",
    "print(np.__version__)\n",
    "import pandas as pd\n",
    "print(pd.__version__)\n",
    "import matplotlib\n",
    "print(matplotlib.__version__)\n",
    "import torch\n",
    "print(torch.__version__)"
   ],
   "id": "a83d6fdd2e3718ee",
   "outputs": [
    {
     "name": "stdout",
     "output_type": "stream",
     "text": [
      "2.3.3\n",
      "2.3.2\n",
      "3.10.6\n",
      "2.8.0+cpu\n"
     ]
    }
   ],
   "execution_count": 11
  },
  {
   "metadata": {
    "ExecuteTime": {
     "end_time": "2025-09-26T15:18:28.353348Z",
     "start_time": "2025-09-26T15:18:28.343344Z"
    }
   },
   "cell_type": "code",
   "source": [
    "import torch\n",
    "print(torch.__version__)"
   ],
   "id": "ae40b2df1cca0b9c",
   "outputs": [
    {
     "name": "stdout",
     "output_type": "stream",
     "text": [
      "2.8.0+cpu\n"
     ]
    }
   ],
   "execution_count": 12
  },
  {
   "metadata": {
    "ExecuteTime": {
     "end_time": "2025-09-26T15:20:07.974407Z",
     "start_time": "2025-09-26T15:20:07.961371Z"
    }
   },
   "cell_type": "code",
   "source": [
    "import numpy as np\n",
    "arr=np.array([1,-2,3,-4,5])\n",
    "index=np.where(arr>=3,\"T\",\"F\")\n",
    "print(index)"
   ],
   "id": "c81f27fb3005bf94",
   "outputs": [
    {
     "name": "stdout",
     "output_type": "stream",
     "text": [
      "['F' 'F' 'T' 'F' 'T']\n"
     ]
    }
   ],
   "execution_count": 14
  },
  {
   "metadata": {
    "ExecuteTime": {
     "end_time": "2025-09-26T15:23:29.521462Z",
     "start_time": "2025-09-26T15:23:29.507152Z"
    }
   },
   "cell_type": "code",
   "source": [
    "class Student:\n",
    "    def __init__(self,name,Rollno,Branch):\n",
    "        self.name=name\n",
    "        self.Rollno=Rollno\n",
    "        self.Branch=Branch\n",
    "    def Method(self):\n",
    "        print(\"The Student name is \",self.name)\n",
    "        print(\"RollNo is \",self.Rollno)\n",
    "        print(\"The Branch is \",self.Branch)\n",
    "\n",
    "Object=Student(\"Ravi\",453,\"CSE\")\n",
    "Object.Method()\n",
    "\n"
   ],
   "id": "89a966371084edc2",
   "outputs": [
    {
     "name": "stdout",
     "output_type": "stream",
     "text": [
      "The Student name is  Ravi\n",
      "RollNo is  453\n",
      "The Branch is  CSE\n"
     ]
    }
   ],
   "execution_count": 15
  }
 ],
 "metadata": {
  "kernelspec": {
   "display_name": "Python 3",
   "language": "python",
   "name": "python3"
  },
  "language_info": {
   "codemirror_mode": {
    "name": "ipython",
    "version": 2
   },
   "file_extension": ".py",
   "mimetype": "text/x-python",
   "name": "python",
   "nbconvert_exporter": "python",
   "pygments_lexer": "ipython2",
   "version": "2.7.6"
  }
 },
 "nbformat": 4,
 "nbformat_minor": 5
}
